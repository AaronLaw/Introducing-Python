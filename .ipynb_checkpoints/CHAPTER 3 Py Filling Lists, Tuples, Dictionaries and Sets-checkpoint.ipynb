{
 "cells": [
  {
   "cell_type": "markdown",
   "metadata": {},
   "source": [
    "<a id='HOME'></a>\n",
    "# CHAPTER 3 Py Filling: Lists, Tuples, Dictionaries, and Sets\n",
    "## Python容器：串列、Tuples、字典與集合\n",
    "\n",
    "* [3.1 串列(list)與Tuples](#Lists_Tuples)\n",
    "* [3.2 串列(list)型態](#Lists)\n",
    "* [3.3 Tuples型態](#Tuples)\n",
    "* [3.4 字典(Dictionarie)型態](#Dictionaries)\n",
    "* [3.5 集合(set)型態](#Sets)\n",
    "* [3.6 比較型態差別](#CompareDataStructures)\n",
    "* [3.7 建立大型結構](#MakeBiggerDataStructures)"
   ]
  },
  {
   "cell_type": "markdown",
   "metadata": {},
   "source": [
    "------\n",
    "<a id='Lists_Tuples'></a>\n",
    "## 3.1 串列(list)與Tuples\n",
    "[回目錄](#HOME)\n",
    "\n",
    "兩者差異在於，List可以改變其內容，增減長度 or 替換等等皆可以  \n",
    "Tuples一旦賦予值之後，就不能再修改。"
   ]
  },
  {
   "cell_type": "markdown",
   "metadata": {},
   "source": [
    "------\n",
    "<a id='Lists'></a>\n",
    "## 3.2 串列(list)型態\n",
    "[回目錄](#HOME)\n",
    "\n",
    "List可以使用 **[]** 或是 **list()** 來創建空的，或是直接加入值進去，使用逗號區分即可。內容可以重複出現，且具有順序性。"
   ]
  },
  {
   "cell_type": "code",
   "execution_count": 2,
   "metadata": {
    "collapsed": false
   },
   "outputs": [
    {
     "name": "stdout",
     "output_type": "stream",
     "text": [
      "[]\n",
      "['Monday', 'Tuesday', 'Wednesday', 'Thursday', 'Friday']\n",
      "['emu', 'ostrich', 'cassowary']\n",
      "['Graham', 'John', 'Terry', 'Terry', 'Michael']\n"
     ]
    }
   ],
   "source": [
    "empty_list = []\n",
    "weekdays = ['Monday', 'Tuesday', 'Wednesday', 'Thursday', 'Friday']\n",
    "big_birds = ['emu', 'ostrich', 'cassowary']\n",
    "first_names = ['Graham', 'John', 'Terry', 'Terry', 'Michael']\n",
    "\n",
    "print(empty_list)\n",
    "print(weekdays)\n",
    "print(big_birds)\n",
    "print(first_names)"
   ]
  },
  {
   "cell_type": "markdown",
   "metadata": {},
   "source": [
    "可以使用 list() 來作為轉換其他型別至List，或是前面2.3小節提到的字串split()函數"
   ]
  },
  {
   "cell_type": "code",
   "execution_count": 4,
   "metadata": {
    "collapsed": false
   },
   "outputs": [
    {
     "name": "stdout",
     "output_type": "stream",
     "text": [
      "['c', 'a', 't']\n",
      "['ready', 'fire', 'aim']\n",
      "['1', '6', '1952']\n"
     ]
    }
   ],
   "source": [
    "print(list('cat'))\n",
    "\n",
    "a_tuple = ('ready', 'fire', 'aim')\n",
    "print(list(a_tuple))\n",
    "\n",
    "birthday = '1/6/1952'\n",
    "print((birthday.split('/')))"
   ]
  },
  {
   "cell_type": "markdown",
   "metadata": {},
   "source": [
    "提取內容時跟字串一樣使用[]，  \n",
    "index從0開始，-1為最後一個，  \n",
    "index數值的範圍請務必在總長度內，不然會出現IndexError。也可以將其修改替換內容。  \n",
    "提取多個以上也如同字串中的用法 [start : end : step]，注意這邊只會提取到index為end - 1"
   ]
  },
  {
   "cell_type": "code",
   "execution_count": 7,
   "metadata": {
    "collapsed": false
   },
   "outputs": [
    {
     "name": "stdout",
     "output_type": "stream",
     "text": [
      "a\n",
      "b\n",
      "d\n",
      "c\n",
      "['QQ', 'b']\n",
      "[]\n",
      "['QQ', 'c']\n"
     ]
    }
   ],
   "source": [
    "XD = ['a', 'b', 'c', 'd']\n",
    "print(XD[0])\n",
    "print(XD[1])\n",
    "print(XD[-1])\n",
    "print(XD[-2])\n",
    "\n",
    "XD[0] = 'QQ'\n",
    "\n",
    "print(XD[0:2])\n",
    "print(XD[2:-2])\n",
    "print(XD[::2])"
   ]
  },
  {
   "cell_type": "markdown",
   "metadata": {},
   "source": [
    "List裡面可以包含不同類型的物件，當然也包括List"
   ]
  },
  {
   "cell_type": "code",
   "execution_count": 8,
   "metadata": {
    "collapsed": false
   },
   "outputs": [
    {
     "name": "stdout",
     "output_type": "stream",
     "text": [
      "['a', 'b', 'c']\n",
      "b\n"
     ]
    }
   ],
   "source": [
    "XD = [['a', 'b', 'c'],['d', 'e', 'f'],['g', 'h', 'i']]\n",
    "print(XD[0])\n",
    "print(XD[0][1])"
   ]
  },
  {
   "cell_type": "markdown",
   "metadata": {},
   "source": [
    "可以使用List的內建函數append()來向後面添加元素\n",
    "* .extend()或是 += 可以合併list\n",
    "* .insert()可以在指定位置插入元素，如果位置超過最大長度則放在最後面，必不會飛到很遠去或出錯。\n",
    "* del 可以用來刪除某個位置的元素，剩餘元素會自動往前補填補\n",
    "* .remove()可以用來移除指定元素\n",
    "* .pop()為類似剪出的效果，可以將指定位置的元素剪出來，預設index為 -1\n",
    "* .index()為可以找查指定元素第一次出現的index\n",
    "* in 可以判斷指定元素是否存在\n",
    "* .count()可以計算指定元素出現次數"
   ]
  },
  {
   "cell_type": "code",
   "execution_count": 9,
   "metadata": {
    "collapsed": false
   },
   "outputs": [
    {
     "name": "stdout",
     "output_type": "stream",
     "text": [
      "None\n",
      "None\n",
      "None\n",
      "None\n"
     ]
    },
    {
     "data": {
      "text/plain": [
       "2"
      ]
     },
     "execution_count": 9,
     "metadata": {},
     "output_type": "execute_result"
    }
   ],
   "source": [
    "XD = ['a', 'b']\n",
    "XD2 = ['e', 'f']\n",
    "\n",
    "XD.append('QQ~')\n",
    "XD.extend(XD2)\n",
    "XD += XD2\n",
    "XD.append(XD2)\n",
    "XD.insert(2, 'c')\n",
    "XD.insert(500, 'ker')\n",
    "del XD[8]\n",
    "XD.remove('e')\n",
    "QQ = XD.pop(3)\n",
    "XD.index('f')\n",
    "'ker' in XD\n",
    "XD.count('f')"
   ]
  },
  {
   "cell_type": "markdown",
   "metadata": {},
   "source": [
    "------\n",
    "<a id='Tuples'></a>\n",
    "## 3.3 Tuples型態\n",
    "[回目錄](#HOME)\n"
   ]
  },
  {
   "cell_type": "markdown",
   "metadata": {},
   "source": [
    "------\n",
    "<a id='Dictionaries'></a>\n",
    "## 3.4 字典型態\n",
    "[回目錄](#HOME)\n"
   ]
  },
  {
   "cell_type": "markdown",
   "metadata": {},
   "source": [
    "------\n",
    "<a id='Sets'></a>\n",
    "## 3.5 集合型態\n",
    "[回目錄](#HOME)\n"
   ]
  },
  {
   "cell_type": "markdown",
   "metadata": {},
   "source": [
    "------\n",
    "<a id='CompareDataStructures'></a>\n",
    "## 3.6 比較型態差別\n",
    "[回目錄](#HOME)\n"
   ]
  },
  {
   "cell_type": "markdown",
   "metadata": {},
   "source": [
    "------\n",
    "<a id='MakeBiggerDataStructures'></a>\n",
    "## 3.7 建立大型結構\n",
    "[回目錄](#HOME)\n"
   ]
  }
 ],
 "metadata": {
  "kernelspec": {
   "display_name": "Python [Root]",
   "language": "python",
   "name": "Python [Root]"
  },
  "language_info": {
   "codemirror_mode": {
    "name": "ipython",
    "version": 3
   },
   "file_extension": ".py",
   "mimetype": "text/x-python",
   "name": "python",
   "nbconvert_exporter": "python",
   "pygments_lexer": "ipython3",
   "version": "3.5.2"
  }
 },
 "nbformat": 4,
 "nbformat_minor": 0
}
