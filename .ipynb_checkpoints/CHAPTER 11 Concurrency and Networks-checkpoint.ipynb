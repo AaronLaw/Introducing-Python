{
 "cells": [
  {
   "cell_type": "markdown",
   "metadata": {},
   "source": [
    "<a id='HOME'></a>\n",
    "# CHAPTER 11 Concurrency and Networks\n",
    "## 開發與網路\n",
    "\n",
    "* [11.1 開發](#Concurrency)\n",
    "* [11.2 網路](#Networks)\n"
   ]
  },
  {
   "cell_type": "markdown",
   "metadata": {},
   "source": [
    "---\n",
    "<a id='Concurrency'></a>\n",
    "## 11.1 開發\n",
    "[回目錄](#HOME)\n",
    "\n",
    "\n",
    "1. 以多進程形式，允許多個任務同時運行；\n",
    "2. 以多線程形式，允許單個任務分成不同的部分2行；"
   ]
  },
  {
   "cell_type": "markdown",
   "metadata": {},
   "source": [
    "---\n",
    "<a id='Networks'></a>\n",
    "## 11.2 網路\n",
    "[回目錄](#HOME)"
   ]
  }
 ],
 "metadata": {
  "anaconda-cloud": {},
  "kernelspec": {
   "display_name": "Python [Root]",
   "language": "python",
   "name": "Python [Root]"
  },
  "language_info": {
   "codemirror_mode": {
    "name": "ipython",
    "version": 3
   },
   "file_extension": ".py",
   "mimetype": "text/x-python",
   "name": "python",
   "nbconvert_exporter": "python",
   "pygments_lexer": "ipython3",
   "version": "3.5.2"
  }
 },
 "nbformat": 4,
 "nbformat_minor": 0
}
